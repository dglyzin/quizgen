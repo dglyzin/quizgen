{
 "cells": [
  {
   "cell_type": "code",
   "execution_count": 9,
   "metadata": {},
   "outputs": [
    {
     "name": "stdout",
     "output_type": "stream",
     "text": [
      "[['iivanov', '5hJ4GzOC', 'Ivan', 'Ivanov', 'Иванов', 'Иван', 'Иванович', '4'], ['ppetrov', 'vZRmZu2F', 'Petr', 'Petrov', 'Петр', 'Петрович', 'Петров', '4'], ['ssidorov', 'io4Z3KID', 'Sidor', 'Sidorov', 'Сидор', 'Сидорович', 'Сидоров', '6']]\n"
     ]
    }
   ],
   "source": [
    "#generate passwords \n",
    "#input file should be in format\n",
    "#uid Name Lastname RusName RusPaternalName RusLastname studentgroup\n",
    "userlistfile = \"userinputlist.txt\"\n",
    "userlistfilewpw = \"users_wpw.txt\"\n",
    "\n",
    "import secrets\n",
    "import string\n",
    "alphabet = string.ascii_letters + string.digits\n",
    "\n",
    "accfile = open(userlistfile, \"r\")\n",
    "acclist = [line.rstrip().split(\" \") for line in accfile]\n",
    "accfile.close()\n",
    "\n",
    "for user in acclist:\n",
    "    user.insert(1, ''.join(secrets.choice(alphabet) for i in range(8)))\n",
    "\n",
    "print(acclist)\n",
    "\n",
    "\n",
    "accwpwfile = open(userlistfilewpw, \"w\")\n",
    "for user in acclist:\n",
    "    accwpwfile.write(\" \".join(user)+\"\\n\")\n",
    "accwpwfile.close()"
   ]
  },
  {
   "cell_type": "code",
   "execution_count": 5,
   "metadata": {},
   "outputs": [],
   "source": [
    "#generate ldif file for LDAP\n",
    "firstuidnum = 10077\n",
    "ldiffilename = \"addusersfrom10077.ldif\"\n",
    "\n",
    "pattern = '''dn: uid={uid},ou=people,dc=int,dc=accelcomp,dc=org\n",
    "changetype: add\n",
    "objectClass: inetOrgPerson\n",
    "objectClass: posixAccount\n",
    "objectClass: shadowAccount\n",
    "uid: {uid}\n",
    "cn: {name} {surname}\n",
    "displayName: {name} {surname}\n",
    "sn: {surname}\n",
    "givenName: {name}\n",
    "uidNumber: {uidnumber}\n",
    "gidNumber: 5000\n",
    "loginShell: /bin/bash\n",
    "homeDirectory: /clusterhome/{uid}\n",
    "\n",
    "\n",
    "'''\n",
    "pattern2 = '''dn: cn=power,ou=groups,dc=int,dc=accelcomp,dc=org\n",
    "changetype: modify\n",
    "add: memberUid\n",
    "memberUid: {uid}\n",
    "\n",
    "dn: cn=acc,ou=groups,dc=int,dc=accelcomp,dc=org\n",
    "changetype: modify\n",
    "add: memberUid\n",
    "memberUid: {uid}\n",
    "\n",
    "\n",
    "'''\n",
    "\n",
    "accfile = open(userlistfilewpw, \"r\")\n",
    "acclist = [line.rstrip().split(\" \") for line in accfile]\n",
    "accfile.close()\n",
    "\n",
    "ldiffile = open(ldiffilename, \"w\")\n",
    "uidnumber = firstuidnum\n",
    "for user in acclist:\n",
    "    uid = user[0]\n",
    "    name = user[2]\n",
    "    surname = user[3]\n",
    "    ldiffile.write(pattern.format(uid = uid, name=name, surname=surname, uidnumber=uidnumber))\n",
    "    ldiffile.write(pattern2.format(uid = uid))\n",
    "    uidnumber +=1\n",
    "ldiffile.close()\n"
   ]
  },
  {
   "cell_type": "code",
   "execution_count": 7,
   "metadata": {},
   "outputs": [
    {
     "name": "stdout",
     "output_type": "stream",
     "text": [
      "not received:\n",
      "total:  0\n",
      "received:\n",
      "total:  0\n"
     ]
    }
   ],
   "source": [
    "#печатаем, у кого нет эккаунта\n",
    "#нужно ставить плюсики в конце строк для пользователей, получивших логин-пароль\n",
    "accfile = open(userlistfilewpw, \"r\")\n",
    "acclist = [line.rstrip().split(\" \") for line in accfile]\n",
    "accfile.close()\n",
    "print(\"not received:\")\n",
    "count = 0\n",
    "for user in acclist:\n",
    "    if user[-1]==\"-\":\n",
    "        print(\" \".join(user[4:-1]) )\n",
    "        count +=1\n",
    "print (\"total: \",count)\n",
    "\n",
    "print(\"received:\")\n",
    "count = 0\n",
    "for user in acclist:\n",
    "    if user[-1]==\"+\":\n",
    "        print(user[4:]) \n",
    "        count +=1\n",
    "print (\"total: \",count)"
   ]
  },
  {
   "cell_type": "code",
   "execution_count": null,
   "metadata": {},
   "outputs": [],
   "source": []
  }
 ],
 "metadata": {
  "kernelspec": {
   "display_name": "Python 3",
   "language": "python",
   "name": "python3"
  },
  "language_info": {
   "codemirror_mode": {
    "name": "ipython",
    "version": 3
   },
   "file_extension": ".py",
   "mimetype": "text/x-python",
   "name": "python",
   "nbconvert_exporter": "python",
   "pygments_lexer": "ipython3",
   "version": "3.7.6"
  }
 },
 "nbformat": 4,
 "nbformat_minor": 4
}
